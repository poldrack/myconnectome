{
 "metadata": {
  "name": "",
  "signature": "sha256:2c14cc83d80fd678dce9e80774cef22764394abc956ffc65d8a77f5d54f31226"
 },
 "nbformat": 3,
 "nbformat_minor": 0,
 "worksheets": []
}